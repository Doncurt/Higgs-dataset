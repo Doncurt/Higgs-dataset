{
 "cells": [
  {
   "cell_type": "markdown",
   "metadata": {
    "extensions": {
     "jupyter_dashboards": {
      "version": 1,
      "views": {
       "grid_default": {
        "col": 0,
        "height": 21,
        "hidden": false,
        "row": 0,
        "width": 12
       },
       "report_default": {
        "hidden": false
       }
      }
     }
    }
   },
   "source": [
    "# Higgs Boson detection in experiments from the LHC\n",
    "\n",
    "\n",
    "\n",
    "#### ==================================================\n",
    "\n",
    "\n",
    "\n",
    "##### The following are a collection of  measurments of particles that were the result experiments derived from the collision of particles at CERN's Large Hadron Collider.\n",
    "\n",
    "#### The Large Hadron Collider\n",
    "\n",
    "##### Considered to be the most advanced and one of the most precise peices of machinery to ever be asssembled, this almost 17 mile length tunnel lined with super conducting magnets accelerates particles near the speed of light in order to study the energy and  particles produced by the collisions of such particles. The particles are contained in an unltra high vaccum in order not to just reduce resistance, but to completely isolate the particles. This results in the most accurate measurement s possible for each collison, and eschews the chance of interfernce from outside pressures, radiations, energies or particles.\n",
    "\n",
    "\n",
    "#### The Standard Model and BSM \n",
    "\n",
    "##### While the Standard Model seeks to describe the interactions of fundamental particles at the quantum level, LHC experiments are designed to test the properties of matter beyond the Standar Model of physics(BSM). This includes particles such as  multiple flavors of positively charged leptons (and their neutral counterparts, neutrinos. The most widely known lepton is the electron), and various types of bosons. The most important particle specifically for this experiment is the  detection of the Higgs Boson and the measured results are used to test and produce new theories in BSM physics. \n",
    "\n",
    "#### The Higgs Boson\n",
    "##### The importance of this particle in modern physics cannot be understated. Considered a \"missing link\" in the standard model, the presence of this particle after being solely theoretical for almost half a century, gives validity to the entirety of the standard model of physics.\n",
    "\n",
    "#### Detection of the Higgs Boson\n"
   ]
  },
  {
   "cell_type": "markdown",
   "metadata": {
    "extensions": {
     "jupyter_dashboards": {
      "version": 1,
      "views": {
       "grid_default": {
        "col": 0,
        "height": 4,
        "hidden": false,
        "row": 21,
        "width": 12
       },
       "report_default": {
        "hidden": false
       }
      }
     }
    }
   },
   "source": [
    "## Glossary\n",
    "##### Torodial - Donut shaped, the shape itself being important for collisions, measuments and modeling of events at the sub-atomic level"
   ]
  },
  {
   "cell_type": "markdown",
   "metadata": {
    "extensions": {
     "jupyter_dashboards": {
      "version": 1,
      "views": {
       "grid_default": {
        "col": 0,
        "height": 4,
        "hidden": false,
        "row": 29,
        "width": 4
       },
       "report_default": {
        "hidden": false
       }
      }
     }
    }
   },
   "source": [
    "## Initial Data Load"
   ]
  },
  {
   "cell_type": "code",
   "execution_count": 1,
   "metadata": {
    "extensions": {
     "jupyter_dashboards": {
      "version": 1,
      "views": {
       "grid_default": {
        "hidden": true
       },
       "report_default": {
        "hidden": true
       }
      }
     }
    }
   },
   "outputs": [],
   "source": [
    "import dask.dataframe as dd\n",
    "import numpy as np\n",
    "import pandas as pd\n",
    "from scipy import stats, integrate\n",
    "import matplotlib.pyplot as plt\n",
    "# thers 28 columns to this trunicated\n",
    "pd.set_option('display.max_columns', 500)\n",
    "np.random.seed(42)"
   ]
  },
  {
   "cell_type": "code",
   "execution_count": 2,
   "metadata": {
    "collapsed": true,
    "extensions": {
     "jupyter_dashboards": {
      "version": 1,
      "views": {
       "grid_default": {
        "hidden": true
       },
       "report_default": {
        "hidden": true
       }
      }
     }
    }
   },
   "outputs": [],
   "source": [
    "df = dd.read_csv('HIGGS.CSV')"
   ]
  },
  {
   "cell_type": "code",
   "execution_count": 3,
   "metadata": {
    "collapsed": true,
    "extensions": {
     "jupyter_dashboards": {
      "version": 1,
      "views": {
       "grid_default": {
        "hidden": true
       },
       "report_default": {
        "hidden": true
       }
      }
     }
    }
   },
   "outputs": [],
   "source": [
    "df.columns= ['sig_or_back','lepton_pT', 'lepton_eta', 'lepton_phi', 'missing_energy_magnitude', 'missing_energy_phi', 'jet_1_pt', 'jet_1_eta', 'jet_1_phi', 'jet_1_b-tag', 'jet_2_pt', 'jet_2_eta', 'jet_2_phi', 'jet_2_b-tag', 'jet_3_pt', 'jet_3_eta', 'jet_3_phi', 'jet_3_b-tag', 'jet_4_pt', 'jet_4_eta', 'jet_4_phi', 'jet_4_b-tag', 'm_jj', 'm_jjj', 'm_lv', 'm_jlv', 'm_bb', 'm_wbb','m_wwbb']"
   ]
  },
  {
   "cell_type": "code",
   "execution_count": 4,
   "metadata": {
    "collapsed": true,
    "extensions": {
     "jupyter_dashboards": {
      "version": 1,
      "views": {
       "grid_default": {
        "hidden": true
       },
       "report_default": {
        "hidden": true
       }
      }
     }
    }
   },
   "outputs": [],
   "source": [
    "df= df.persist()"
   ]
  },
  {
   "cell_type": "markdown",
   "metadata": {
    "extensions": {
     "jupyter_dashboards": {
      "version": 1,
      "views": {
       "grid_default": {
        "col": 0,
        "height": 3,
        "hidden": false,
        "row": 33,
        "width": 12
       },
       "report_default": {
        "hidden": false
       }
      }
     }
    }
   },
   "source": [
    "## Descriptive Statistics\n"
   ]
  },
  {
   "cell_type": "markdown",
   "metadata": {
    "extensions": {
     "jupyter_dashboards": {
      "version": 1,
      "views": {
       "grid_default": {
        "col": 0,
        "height": 4,
        "hidden": false,
        "row": 25,
        "width": 12
       },
       "report_default": {
        "hidden": false
       }
      }
     }
    }
   },
   "source": [
    "### Data size\n",
    "#### The data contains 29 columns and 10,999,999 rows for a total of 318,999,971 measured data points"
   ]
  },
  {
   "cell_type": "code",
   "execution_count": 5,
   "metadata": {
    "extensions": {
     "jupyter_dashboards": {
      "version": 1,
      "views": {
       "grid_default": {
        "col": 8,
        "height": 4,
        "hidden": true,
        "row": 29,
        "width": 4
       },
       "report_default": {
        "hidden": false
       }
      }
     }
    }
   },
   "outputs": [
    {
     "data": {
      "text/plain": [
       "10999999"
      ]
     },
     "execution_count": 5,
     "metadata": {},
     "output_type": "execute_result"
    }
   ],
   "source": [
    "len(df)"
   ]
  },
  {
   "cell_type": "code",
   "execution_count": 6,
   "metadata": {
    "extensions": {
     "jupyter_dashboards": {
      "version": 1,
      "views": {
       "grid_default": {
        "col": 0,
        "height": 8,
        "hidden": false,
        "row": 36,
        "width": 12
       },
       "report_default": {
        "hidden": false
       }
      }
     }
    }
   },
   "outputs": [
    {
     "data": {
      "text/html": [
       "<div>\n",
       "<style>\n",
       "    .dataframe thead tr:only-child th {\n",
       "        text-align: right;\n",
       "    }\n",
       "\n",
       "    .dataframe thead th {\n",
       "        text-align: left;\n",
       "    }\n",
       "\n",
       "    .dataframe tbody tr th {\n",
       "        vertical-align: top;\n",
       "    }\n",
       "</style>\n",
       "<table border=\"1\" class=\"dataframe\">\n",
       "  <thead>\n",
       "    <tr style=\"text-align: right;\">\n",
       "      <th></th>\n",
       "      <th>sig_or_back</th>\n",
       "      <th>lepton_pT</th>\n",
       "      <th>lepton_eta</th>\n",
       "      <th>lepton_phi</th>\n",
       "      <th>missing_energy_magnitude</th>\n",
       "      <th>missing_energy_phi</th>\n",
       "      <th>jet_1_pt</th>\n",
       "      <th>jet_1_eta</th>\n",
       "      <th>jet_1_phi</th>\n",
       "      <th>jet_1_b-tag</th>\n",
       "      <th>jet_2_pt</th>\n",
       "      <th>jet_2_eta</th>\n",
       "      <th>jet_2_phi</th>\n",
       "      <th>jet_2_b-tag</th>\n",
       "      <th>jet_3_pt</th>\n",
       "      <th>jet_3_eta</th>\n",
       "      <th>jet_3_phi</th>\n",
       "      <th>jet_3_b-tag</th>\n",
       "      <th>jet_4_pt</th>\n",
       "      <th>jet_4_eta</th>\n",
       "      <th>jet_4_phi</th>\n",
       "      <th>jet_4_b-tag</th>\n",
       "      <th>m_jj</th>\n",
       "      <th>m_jjj</th>\n",
       "      <th>m_lv</th>\n",
       "      <th>m_jlv</th>\n",
       "      <th>m_bb</th>\n",
       "      <th>m_wbb</th>\n",
       "      <th>m_wwbb</th>\n",
       "    </tr>\n",
       "  </thead>\n",
       "  <tbody>\n",
       "    <tr>\n",
       "      <th>0</th>\n",
       "      <td>1.0</td>\n",
       "      <td>0.907542</td>\n",
       "      <td>0.329147</td>\n",
       "      <td>0.359412</td>\n",
       "      <td>1.497970</td>\n",
       "      <td>-0.313010</td>\n",
       "      <td>1.095531</td>\n",
       "      <td>-0.557525</td>\n",
       "      <td>-1.588230</td>\n",
       "      <td>2.173076</td>\n",
       "      <td>0.812581</td>\n",
       "      <td>-0.213642</td>\n",
       "      <td>1.271015</td>\n",
       "      <td>2.214872</td>\n",
       "      <td>0.499994</td>\n",
       "      <td>-1.261432</td>\n",
       "      <td>0.732156</td>\n",
       "      <td>0.000000</td>\n",
       "      <td>0.398701</td>\n",
       "      <td>-1.138930</td>\n",
       "      <td>-0.000819</td>\n",
       "      <td>0.000000</td>\n",
       "      <td>0.302220</td>\n",
       "      <td>0.833048</td>\n",
       "      <td>0.985700</td>\n",
       "      <td>0.978098</td>\n",
       "      <td>0.779732</td>\n",
       "      <td>0.992356</td>\n",
       "      <td>0.798343</td>\n",
       "    </tr>\n",
       "    <tr>\n",
       "      <th>1</th>\n",
       "      <td>1.0</td>\n",
       "      <td>0.798835</td>\n",
       "      <td>1.470639</td>\n",
       "      <td>-1.635975</td>\n",
       "      <td>0.453773</td>\n",
       "      <td>0.425629</td>\n",
       "      <td>1.104875</td>\n",
       "      <td>1.282322</td>\n",
       "      <td>1.381664</td>\n",
       "      <td>0.000000</td>\n",
       "      <td>0.851737</td>\n",
       "      <td>1.540659</td>\n",
       "      <td>-0.819690</td>\n",
       "      <td>2.214872</td>\n",
       "      <td>0.993490</td>\n",
       "      <td>0.356080</td>\n",
       "      <td>-0.208778</td>\n",
       "      <td>2.548224</td>\n",
       "      <td>1.256955</td>\n",
       "      <td>1.128848</td>\n",
       "      <td>0.900461</td>\n",
       "      <td>0.000000</td>\n",
       "      <td>0.909753</td>\n",
       "      <td>1.108330</td>\n",
       "      <td>0.985692</td>\n",
       "      <td>0.951331</td>\n",
       "      <td>0.803252</td>\n",
       "      <td>0.865924</td>\n",
       "      <td>0.780118</td>\n",
       "    </tr>\n",
       "    <tr>\n",
       "      <th>2</th>\n",
       "      <td>0.0</td>\n",
       "      <td>1.344385</td>\n",
       "      <td>-0.876626</td>\n",
       "      <td>0.935913</td>\n",
       "      <td>1.992050</td>\n",
       "      <td>0.882454</td>\n",
       "      <td>1.786066</td>\n",
       "      <td>-1.646778</td>\n",
       "      <td>-0.942383</td>\n",
       "      <td>0.000000</td>\n",
       "      <td>2.423265</td>\n",
       "      <td>-0.676016</td>\n",
       "      <td>0.736159</td>\n",
       "      <td>2.214872</td>\n",
       "      <td>1.298720</td>\n",
       "      <td>-1.430738</td>\n",
       "      <td>-0.364658</td>\n",
       "      <td>0.000000</td>\n",
       "      <td>0.745313</td>\n",
       "      <td>-0.678379</td>\n",
       "      <td>-1.360356</td>\n",
       "      <td>0.000000</td>\n",
       "      <td>0.946652</td>\n",
       "      <td>1.028704</td>\n",
       "      <td>0.998656</td>\n",
       "      <td>0.728281</td>\n",
       "      <td>0.869200</td>\n",
       "      <td>1.026736</td>\n",
       "      <td>0.957904</td>\n",
       "    </tr>\n",
       "    <tr>\n",
       "      <th>3</th>\n",
       "      <td>1.0</td>\n",
       "      <td>1.105009</td>\n",
       "      <td>0.321356</td>\n",
       "      <td>1.522401</td>\n",
       "      <td>0.882808</td>\n",
       "      <td>-1.205349</td>\n",
       "      <td>0.681466</td>\n",
       "      <td>-1.070464</td>\n",
       "      <td>-0.921871</td>\n",
       "      <td>0.000000</td>\n",
       "      <td>0.800872</td>\n",
       "      <td>1.020974</td>\n",
       "      <td>0.971407</td>\n",
       "      <td>2.214872</td>\n",
       "      <td>0.596761</td>\n",
       "      <td>-0.350273</td>\n",
       "      <td>0.631194</td>\n",
       "      <td>0.000000</td>\n",
       "      <td>0.479999</td>\n",
       "      <td>-0.373566</td>\n",
       "      <td>0.113041</td>\n",
       "      <td>0.000000</td>\n",
       "      <td>0.755856</td>\n",
       "      <td>1.361057</td>\n",
       "      <td>0.986610</td>\n",
       "      <td>0.838085</td>\n",
       "      <td>1.133295</td>\n",
       "      <td>0.872245</td>\n",
       "      <td>0.808487</td>\n",
       "    </tr>\n",
       "    <tr>\n",
       "      <th>4</th>\n",
       "      <td>0.0</td>\n",
       "      <td>1.595839</td>\n",
       "      <td>-0.607811</td>\n",
       "      <td>0.007075</td>\n",
       "      <td>1.818450</td>\n",
       "      <td>-0.111906</td>\n",
       "      <td>0.847550</td>\n",
       "      <td>-0.566437</td>\n",
       "      <td>1.581239</td>\n",
       "      <td>2.173076</td>\n",
       "      <td>0.755421</td>\n",
       "      <td>0.643110</td>\n",
       "      <td>1.426367</td>\n",
       "      <td>0.000000</td>\n",
       "      <td>0.921661</td>\n",
       "      <td>-1.190432</td>\n",
       "      <td>-1.615589</td>\n",
       "      <td>0.000000</td>\n",
       "      <td>0.651114</td>\n",
       "      <td>-0.654227</td>\n",
       "      <td>-1.274345</td>\n",
       "      <td>3.101961</td>\n",
       "      <td>0.823761</td>\n",
       "      <td>0.938191</td>\n",
       "      <td>0.971758</td>\n",
       "      <td>0.789176</td>\n",
       "      <td>0.430553</td>\n",
       "      <td>0.961357</td>\n",
       "      <td>0.957818</td>\n",
       "    </tr>\n",
       "  </tbody>\n",
       "</table>\n",
       "</div>"
      ],
      "text/plain": [
       "   sig_or_back  lepton_pT  lepton_eta  lepton_phi  missing_energy_magnitude  \\\n",
       "0          1.0   0.907542    0.329147    0.359412                  1.497970   \n",
       "1          1.0   0.798835    1.470639   -1.635975                  0.453773   \n",
       "2          0.0   1.344385   -0.876626    0.935913                  1.992050   \n",
       "3          1.0   1.105009    0.321356    1.522401                  0.882808   \n",
       "4          0.0   1.595839   -0.607811    0.007075                  1.818450   \n",
       "\n",
       "   missing_energy_phi  jet_1_pt  jet_1_eta  jet_1_phi  jet_1_b-tag  jet_2_pt  \\\n",
       "0           -0.313010  1.095531  -0.557525  -1.588230     2.173076  0.812581   \n",
       "1            0.425629  1.104875   1.282322   1.381664     0.000000  0.851737   \n",
       "2            0.882454  1.786066  -1.646778  -0.942383     0.000000  2.423265   \n",
       "3           -1.205349  0.681466  -1.070464  -0.921871     0.000000  0.800872   \n",
       "4           -0.111906  0.847550  -0.566437   1.581239     2.173076  0.755421   \n",
       "\n",
       "   jet_2_eta  jet_2_phi  jet_2_b-tag  jet_3_pt  jet_3_eta  jet_3_phi  \\\n",
       "0  -0.213642   1.271015     2.214872  0.499994  -1.261432   0.732156   \n",
       "1   1.540659  -0.819690     2.214872  0.993490   0.356080  -0.208778   \n",
       "2  -0.676016   0.736159     2.214872  1.298720  -1.430738  -0.364658   \n",
       "3   1.020974   0.971407     2.214872  0.596761  -0.350273   0.631194   \n",
       "4   0.643110   1.426367     0.000000  0.921661  -1.190432  -1.615589   \n",
       "\n",
       "   jet_3_b-tag  jet_4_pt  jet_4_eta  jet_4_phi  jet_4_b-tag      m_jj  \\\n",
       "0     0.000000  0.398701  -1.138930  -0.000819     0.000000  0.302220   \n",
       "1     2.548224  1.256955   1.128848   0.900461     0.000000  0.909753   \n",
       "2     0.000000  0.745313  -0.678379  -1.360356     0.000000  0.946652   \n",
       "3     0.000000  0.479999  -0.373566   0.113041     0.000000  0.755856   \n",
       "4     0.000000  0.651114  -0.654227  -1.274345     3.101961  0.823761   \n",
       "\n",
       "      m_jjj      m_lv     m_jlv      m_bb     m_wbb    m_wwbb  \n",
       "0  0.833048  0.985700  0.978098  0.779732  0.992356  0.798343  \n",
       "1  1.108330  0.985692  0.951331  0.803252  0.865924  0.780118  \n",
       "2  1.028704  0.998656  0.728281  0.869200  1.026736  0.957904  \n",
       "3  1.361057  0.986610  0.838085  1.133295  0.872245  0.808487  \n",
       "4  0.938191  0.971758  0.789176  0.430553  0.961357  0.957818  "
      ]
     },
     "execution_count": 6,
     "metadata": {},
     "output_type": "execute_result"
    }
   ],
   "source": [
    "df.head()"
   ]
  },
  {
   "cell_type": "code",
   "execution_count": 7,
   "metadata": {
    "extensions": {
     "jupyter_dashboards": {
      "version": 1,
      "views": {
       "grid_default": {
        "col": 0,
        "height": 10,
        "hidden": false,
        "row": 44,
        "width": 12
       },
       "report_default": {
        "hidden": false
       }
      }
     }
    }
   },
   "outputs": [
    {
     "data": {
      "text/html": [
       "<div>\n",
       "<style>\n",
       "    .dataframe thead tr:only-child th {\n",
       "        text-align: right;\n",
       "    }\n",
       "\n",
       "    .dataframe thead th {\n",
       "        text-align: left;\n",
       "    }\n",
       "\n",
       "    .dataframe tbody tr th {\n",
       "        vertical-align: top;\n",
       "    }\n",
       "</style>\n",
       "<table border=\"1\" class=\"dataframe\">\n",
       "  <thead>\n",
       "    <tr style=\"text-align: right;\">\n",
       "      <th></th>\n",
       "      <th>sig_or_back</th>\n",
       "      <th>lepton_pT</th>\n",
       "      <th>lepton_eta</th>\n",
       "      <th>lepton_phi</th>\n",
       "      <th>missing_energy_magnitude</th>\n",
       "      <th>missing_energy_phi</th>\n",
       "      <th>jet_1_pt</th>\n",
       "      <th>jet_1_eta</th>\n",
       "      <th>jet_1_phi</th>\n",
       "      <th>jet_1_b-tag</th>\n",
       "      <th>jet_2_pt</th>\n",
       "      <th>jet_2_eta</th>\n",
       "      <th>jet_2_phi</th>\n",
       "      <th>jet_2_b-tag</th>\n",
       "      <th>jet_3_pt</th>\n",
       "      <th>jet_3_eta</th>\n",
       "      <th>jet_3_phi</th>\n",
       "      <th>jet_3_b-tag</th>\n",
       "      <th>jet_4_pt</th>\n",
       "      <th>jet_4_eta</th>\n",
       "      <th>jet_4_phi</th>\n",
       "      <th>jet_4_b-tag</th>\n",
       "      <th>m_jj</th>\n",
       "      <th>m_jjj</th>\n",
       "      <th>m_lv</th>\n",
       "      <th>m_jlv</th>\n",
       "      <th>m_bb</th>\n",
       "      <th>m_wbb</th>\n",
       "      <th>m_wwbb</th>\n",
       "    </tr>\n",
       "  </thead>\n",
       "  <tbody>\n",
       "    <tr>\n",
       "      <th>count</th>\n",
       "      <td>1.100000e+07</td>\n",
       "      <td>1.100000e+07</td>\n",
       "      <td>1.100000e+07</td>\n",
       "      <td>1.100000e+07</td>\n",
       "      <td>1.100000e+07</td>\n",
       "      <td>1.100000e+07</td>\n",
       "      <td>1.100000e+07</td>\n",
       "      <td>1.100000e+07</td>\n",
       "      <td>1.100000e+07</td>\n",
       "      <td>1.100000e+07</td>\n",
       "      <td>1.100000e+07</td>\n",
       "      <td>1.100000e+07</td>\n",
       "      <td>1.100000e+07</td>\n",
       "      <td>1.100000e+07</td>\n",
       "      <td>1.100000e+07</td>\n",
       "      <td>1.100000e+07</td>\n",
       "      <td>1.100000e+07</td>\n",
       "      <td>1.100000e+07</td>\n",
       "      <td>1.100000e+07</td>\n",
       "      <td>1.100000e+07</td>\n",
       "      <td>1.100000e+07</td>\n",
       "      <td>1.100000e+07</td>\n",
       "      <td>1.100000e+07</td>\n",
       "      <td>1.100000e+07</td>\n",
       "      <td>1.100000e+07</td>\n",
       "      <td>1.100000e+07</td>\n",
       "      <td>1.100000e+07</td>\n",
       "      <td>1.100000e+07</td>\n",
       "      <td>1.100000e+07</td>\n",
       "    </tr>\n",
       "    <tr>\n",
       "      <th>mean</th>\n",
       "      <td>5.299202e-01</td>\n",
       "      <td>9.914659e-01</td>\n",
       "      <td>-8.239884e-06</td>\n",
       "      <td>-1.329277e-05</td>\n",
       "      <td>9.985364e-01</td>\n",
       "      <td>2.619732e-05</td>\n",
       "      <td>9.909153e-01</td>\n",
       "      <td>-2.025261e-05</td>\n",
       "      <td>7.815478e-06</td>\n",
       "      <td>9.999688e-01</td>\n",
       "      <td>9.927294e-01</td>\n",
       "      <td>-1.020502e-05</td>\n",
       "      <td>-2.085345e-05</td>\n",
       "      <td>1.000008e+00</td>\n",
       "      <td>9.922590e-01</td>\n",
       "      <td>1.473909e-05</td>\n",
       "      <td>3.773813e-06</td>\n",
       "      <td>1.000012e+00</td>\n",
       "      <td>9.861087e-01</td>\n",
       "      <td>-5.756004e-06</td>\n",
       "      <td>1.745320e-05</td>\n",
       "      <td>1.000000e+00</td>\n",
       "      <td>1.034290e+00</td>\n",
       "      <td>1.024805e+00</td>\n",
       "      <td>1.050554e+00</td>\n",
       "      <td>1.009742e+00</td>\n",
       "      <td>9.729596e-01</td>\n",
       "      <td>1.033036e+00</td>\n",
       "      <td>9.598120e-01</td>\n",
       "    </tr>\n",
       "    <tr>\n",
       "      <th>std</th>\n",
       "      <td>4.991040e-01</td>\n",
       "      <td>5.653777e-01</td>\n",
       "      <td>1.008827e+00</td>\n",
       "      <td>1.006346e+00</td>\n",
       "      <td>6.000185e-01</td>\n",
       "      <td>1.006326e+00</td>\n",
       "      <td>4.749748e-01</td>\n",
       "      <td>1.009303e+00</td>\n",
       "      <td>1.005901e+00</td>\n",
       "      <td>1.027808e+00</td>\n",
       "      <td>4.999939e-01</td>\n",
       "      <td>1.009331e+00</td>\n",
       "      <td>1.006154e+00</td>\n",
       "      <td>1.049398e+00</td>\n",
       "      <td>4.876624e-01</td>\n",
       "      <td>1.008747e+00</td>\n",
       "      <td>1.006305e+00</td>\n",
       "      <td>1.193676e+00</td>\n",
       "      <td>5.057777e-01</td>\n",
       "      <td>1.007694e+00</td>\n",
       "      <td>1.006366e+00</td>\n",
       "      <td>1.400209e+00</td>\n",
       "      <td>6.746354e-01</td>\n",
       "      <td>3.808074e-01</td>\n",
       "      <td>1.645763e-01</td>\n",
       "      <td>3.974453e-01</td>\n",
       "      <td>5.254063e-01</td>\n",
       "      <td>3.652556e-01</td>\n",
       "      <td>3.133378e-01</td>\n",
       "    </tr>\n",
       "    <tr>\n",
       "      <th>min</th>\n",
       "      <td>0.000000e+00</td>\n",
       "      <td>2.746966e-01</td>\n",
       "      <td>-2.434976e+00</td>\n",
       "      <td>-1.742508e+00</td>\n",
       "      <td>2.370088e-04</td>\n",
       "      <td>-1.743944e+00</td>\n",
       "      <td>1.375024e-01</td>\n",
       "      <td>-2.969725e+00</td>\n",
       "      <td>-1.741237e+00</td>\n",
       "      <td>0.000000e+00</td>\n",
       "      <td>1.889811e-01</td>\n",
       "      <td>-2.913090e+00</td>\n",
       "      <td>-1.742372e+00</td>\n",
       "      <td>0.000000e+00</td>\n",
       "      <td>2.636076e-01</td>\n",
       "      <td>-2.729663e+00</td>\n",
       "      <td>-1.742069e+00</td>\n",
       "      <td>0.000000e+00</td>\n",
       "      <td>3.653542e-01</td>\n",
       "      <td>-2.497265e+00</td>\n",
       "      <td>-1.742691e+00</td>\n",
       "      <td>0.000000e+00</td>\n",
       "      <td>7.507046e-02</td>\n",
       "      <td>1.986757e-01</td>\n",
       "      <td>8.304866e-02</td>\n",
       "      <td>1.320062e-01</td>\n",
       "      <td>4.786215e-02</td>\n",
       "      <td>2.951122e-01</td>\n",
       "      <td>3.307214e-01</td>\n",
       "    </tr>\n",
       "    <tr>\n",
       "      <th>25%</th>\n",
       "      <td>0.000000e+00</td>\n",
       "      <td>5.938645e-01</td>\n",
       "      <td>-7.266349e-01</td>\n",
       "      <td>-8.536204e-01</td>\n",
       "      <td>5.812041e-01</td>\n",
       "      <td>-8.573635e-01</td>\n",
       "      <td>6.820157e-01</td>\n",
       "      <td>-6.753622e-01</td>\n",
       "      <td>-8.570088e-01</td>\n",
       "      <td>0.000000e+00</td>\n",
       "      <td>6.596084e-01</td>\n",
       "      <td>-6.828154e-01</td>\n",
       "      <td>-8.610243e-01</td>\n",
       "      <td>0.000000e+00</td>\n",
       "      <td>6.552432e-01</td>\n",
       "      <td>-6.870648e-01</td>\n",
       "      <td>-8.611491e-01</td>\n",
       "      <td>0.000000e+00</td>\n",
       "      <td>6.219053e-01</td>\n",
       "      <td>-7.016978e-01</td>\n",
       "      <td>-8.564962e-01</td>\n",
       "      <td>0.000000e+00</td>\n",
       "      <td>7.930204e-01</td>\n",
       "      <td>8.482996e-01</td>\n",
       "      <td>9.858065e-01</td>\n",
       "      <td>7.706828e-01</td>\n",
       "      <td>6.772983e-01</td>\n",
       "      <td>8.214874e-01</td>\n",
       "      <td>7.720008e-01</td>\n",
       "    </tr>\n",
       "    <tr>\n",
       "      <th>50%</th>\n",
       "      <td>1.000000e+00</td>\n",
       "      <td>8.579466e-01</td>\n",
       "      <td>1.065950e-02</td>\n",
       "      <td>1.983673e-02</td>\n",
       "      <td>8.968794e-01</td>\n",
       "      <td>1.657323e-02</td>\n",
       "      <td>8.986668e-01</td>\n",
       "      <td>1.482801e-02</td>\n",
       "      <td>1.623776e-02</td>\n",
       "      <td>1.086538e+00</td>\n",
       "      <td>8.947961e-01</td>\n",
       "      <td>1.268813e-02</td>\n",
       "      <td>1.543472e-02</td>\n",
       "      <td>1.107436e+00</td>\n",
       "      <td>9.012887e-01</td>\n",
       "      <td>1.109588e-02</td>\n",
       "      <td>1.488340e-02</td>\n",
       "      <td>0.000000e+00</td>\n",
       "      <td>8.738317e-01</td>\n",
       "      <td>1.286448e-02</td>\n",
       "      <td>1.204662e-02</td>\n",
       "      <td>0.000000e+00</td>\n",
       "      <td>8.966398e-01</td>\n",
       "      <td>9.533343e-01</td>\n",
       "      <td>9.898620e-01</td>\n",
       "      <td>9.196360e-01</td>\n",
       "      <td>8.760621e-01</td>\n",
       "      <td>9.491561e-01</td>\n",
       "      <td>8.738002e-01</td>\n",
       "    </tr>\n",
       "    <tr>\n",
       "      <th>75%</th>\n",
       "      <td>1.000000e+00</td>\n",
       "      <td>1.244965e+00</td>\n",
       "      <td>7.537977e-01</td>\n",
       "      <td>8.859752e-01</td>\n",
       "      <td>1.301735e+00</td>\n",
       "      <td>8.860050e-01</td>\n",
       "      <td>1.178710e+00</td>\n",
       "      <td>7.069987e-01</td>\n",
       "      <td>8.810633e-01</td>\n",
       "      <td>2.173076e+00</td>\n",
       "      <td>1.207792e+00</td>\n",
       "      <td>7.091631e-01</td>\n",
       "      <td>8.826337e-01</td>\n",
       "      <td>2.214872e+00</td>\n",
       "      <td>1.227417e+00</td>\n",
       "      <td>7.119874e-01</td>\n",
       "      <td>8.847083e-01</td>\n",
       "      <td>2.548224e+00</td>\n",
       "      <td>1.229450e+00</td>\n",
       "      <td>7.240956e-01</td>\n",
       "      <td>8.843684e-01</td>\n",
       "      <td>3.101961e+00</td>\n",
       "      <td>1.028750e+00</td>\n",
       "      <td>1.086153e+00</td>\n",
       "      <td>1.024211e+00</td>\n",
       "      <td>1.147909e+00</td>\n",
       "      <td>1.145249e+00</td>\n",
       "      <td>1.144513e+00</td>\n",
       "      <td>1.063560e+00</td>\n",
       "    </tr>\n",
       "    <tr>\n",
       "      <th>max</th>\n",
       "      <td>1.000000e+00</td>\n",
       "      <td>1.209891e+01</td>\n",
       "      <td>2.434868e+00</td>\n",
       "      <td>1.743236e+00</td>\n",
       "      <td>1.539682e+01</td>\n",
       "      <td>1.743257e+00</td>\n",
       "      <td>9.940391e+00</td>\n",
       "      <td>2.969674e+00</td>\n",
       "      <td>1.741454e+00</td>\n",
       "      <td>2.173076e+00</td>\n",
       "      <td>1.164708e+01</td>\n",
       "      <td>2.913210e+00</td>\n",
       "      <td>1.743175e+00</td>\n",
       "      <td>2.214872e+00</td>\n",
       "      <td>1.470899e+01</td>\n",
       "      <td>2.730009e+00</td>\n",
       "      <td>1.742884e+00</td>\n",
       "      <td>2.548224e+00</td>\n",
       "      <td>1.288257e+01</td>\n",
       "      <td>2.498009e+00</td>\n",
       "      <td>1.743372e+00</td>\n",
       "      <td>3.101961e+00</td>\n",
       "      <td>4.019237e+01</td>\n",
       "      <td>2.037278e+01</td>\n",
       "      <td>7.992739e+00</td>\n",
       "      <td>1.426244e+01</td>\n",
       "      <td>1.776285e+01</td>\n",
       "      <td>1.149652e+01</td>\n",
       "      <td>8.374498e+00</td>\n",
       "    </tr>\n",
       "  </tbody>\n",
       "</table>\n",
       "</div>"
      ],
      "text/plain": [
       "        sig_or_back     lepton_pT    lepton_eta    lepton_phi  \\\n",
       "count  1.100000e+07  1.100000e+07  1.100000e+07  1.100000e+07   \n",
       "mean   5.299202e-01  9.914659e-01 -8.239884e-06 -1.329277e-05   \n",
       "std    4.991040e-01  5.653777e-01  1.008827e+00  1.006346e+00   \n",
       "min    0.000000e+00  2.746966e-01 -2.434976e+00 -1.742508e+00   \n",
       "25%    0.000000e+00  5.938645e-01 -7.266349e-01 -8.536204e-01   \n",
       "50%    1.000000e+00  8.579466e-01  1.065950e-02  1.983673e-02   \n",
       "75%    1.000000e+00  1.244965e+00  7.537977e-01  8.859752e-01   \n",
       "max    1.000000e+00  1.209891e+01  2.434868e+00  1.743236e+00   \n",
       "\n",
       "       missing_energy_magnitude  missing_energy_phi      jet_1_pt  \\\n",
       "count              1.100000e+07        1.100000e+07  1.100000e+07   \n",
       "mean               9.985364e-01        2.619732e-05  9.909153e-01   \n",
       "std                6.000185e-01        1.006326e+00  4.749748e-01   \n",
       "min                2.370088e-04       -1.743944e+00  1.375024e-01   \n",
       "25%                5.812041e-01       -8.573635e-01  6.820157e-01   \n",
       "50%                8.968794e-01        1.657323e-02  8.986668e-01   \n",
       "75%                1.301735e+00        8.860050e-01  1.178710e+00   \n",
       "max                1.539682e+01        1.743257e+00  9.940391e+00   \n",
       "\n",
       "          jet_1_eta     jet_1_phi   jet_1_b-tag      jet_2_pt     jet_2_eta  \\\n",
       "count  1.100000e+07  1.100000e+07  1.100000e+07  1.100000e+07  1.100000e+07   \n",
       "mean  -2.025261e-05  7.815478e-06  9.999688e-01  9.927294e-01 -1.020502e-05   \n",
       "std    1.009303e+00  1.005901e+00  1.027808e+00  4.999939e-01  1.009331e+00   \n",
       "min   -2.969725e+00 -1.741237e+00  0.000000e+00  1.889811e-01 -2.913090e+00   \n",
       "25%   -6.753622e-01 -8.570088e-01  0.000000e+00  6.596084e-01 -6.828154e-01   \n",
       "50%    1.482801e-02  1.623776e-02  1.086538e+00  8.947961e-01  1.268813e-02   \n",
       "75%    7.069987e-01  8.810633e-01  2.173076e+00  1.207792e+00  7.091631e-01   \n",
       "max    2.969674e+00  1.741454e+00  2.173076e+00  1.164708e+01  2.913210e+00   \n",
       "\n",
       "          jet_2_phi   jet_2_b-tag      jet_3_pt     jet_3_eta     jet_3_phi  \\\n",
       "count  1.100000e+07  1.100000e+07  1.100000e+07  1.100000e+07  1.100000e+07   \n",
       "mean  -2.085345e-05  1.000008e+00  9.922590e-01  1.473909e-05  3.773813e-06   \n",
       "std    1.006154e+00  1.049398e+00  4.876624e-01  1.008747e+00  1.006305e+00   \n",
       "min   -1.742372e+00  0.000000e+00  2.636076e-01 -2.729663e+00 -1.742069e+00   \n",
       "25%   -8.610243e-01  0.000000e+00  6.552432e-01 -6.870648e-01 -8.611491e-01   \n",
       "50%    1.543472e-02  1.107436e+00  9.012887e-01  1.109588e-02  1.488340e-02   \n",
       "75%    8.826337e-01  2.214872e+00  1.227417e+00  7.119874e-01  8.847083e-01   \n",
       "max    1.743175e+00  2.214872e+00  1.470899e+01  2.730009e+00  1.742884e+00   \n",
       "\n",
       "        jet_3_b-tag      jet_4_pt     jet_4_eta     jet_4_phi   jet_4_b-tag  \\\n",
       "count  1.100000e+07  1.100000e+07  1.100000e+07  1.100000e+07  1.100000e+07   \n",
       "mean   1.000012e+00  9.861087e-01 -5.756004e-06  1.745320e-05  1.000000e+00   \n",
       "std    1.193676e+00  5.057777e-01  1.007694e+00  1.006366e+00  1.400209e+00   \n",
       "min    0.000000e+00  3.653542e-01 -2.497265e+00 -1.742691e+00  0.000000e+00   \n",
       "25%    0.000000e+00  6.219053e-01 -7.016978e-01 -8.564962e-01  0.000000e+00   \n",
       "50%    0.000000e+00  8.738317e-01  1.286448e-02  1.204662e-02  0.000000e+00   \n",
       "75%    2.548224e+00  1.229450e+00  7.240956e-01  8.843684e-01  3.101961e+00   \n",
       "max    2.548224e+00  1.288257e+01  2.498009e+00  1.743372e+00  3.101961e+00   \n",
       "\n",
       "               m_jj         m_jjj          m_lv         m_jlv          m_bb  \\\n",
       "count  1.100000e+07  1.100000e+07  1.100000e+07  1.100000e+07  1.100000e+07   \n",
       "mean   1.034290e+00  1.024805e+00  1.050554e+00  1.009742e+00  9.729596e-01   \n",
       "std    6.746354e-01  3.808074e-01  1.645763e-01  3.974453e-01  5.254063e-01   \n",
       "min    7.507046e-02  1.986757e-01  8.304866e-02  1.320062e-01  4.786215e-02   \n",
       "25%    7.930204e-01  8.482996e-01  9.858065e-01  7.706828e-01  6.772983e-01   \n",
       "50%    8.966398e-01  9.533343e-01  9.898620e-01  9.196360e-01  8.760621e-01   \n",
       "75%    1.028750e+00  1.086153e+00  1.024211e+00  1.147909e+00  1.145249e+00   \n",
       "max    4.019237e+01  2.037278e+01  7.992739e+00  1.426244e+01  1.776285e+01   \n",
       "\n",
       "              m_wbb        m_wwbb  \n",
       "count  1.100000e+07  1.100000e+07  \n",
       "mean   1.033036e+00  9.598120e-01  \n",
       "std    3.652556e-01  3.133378e-01  \n",
       "min    2.951122e-01  3.307214e-01  \n",
       "25%    8.214874e-01  7.720008e-01  \n",
       "50%    9.491561e-01  8.738002e-01  \n",
       "75%    1.144513e+00  1.063560e+00  \n",
       "max    1.149652e+01  8.374498e+00  "
      ]
     },
     "execution_count": 7,
     "metadata": {},
     "output_type": "execute_result"
    }
   ],
   "source": [
    "# This will at first print in scientific notation due to some of the measurements involved\n",
    "df.describe().compute()\n",
    "\n",
    "    "
   ]
  },
  {
   "cell_type": "markdown",
   "metadata": {
    "extensions": {
     "jupyter_dashboards": {
      "version": 1,
      "views": {
       "grid_default": {
        "col": 0,
        "height": 4,
        "hidden": false,
        "row": 54,
        "width": 4
       },
       "report_default": {
        "hidden": false
       }
      }
     }
    }
   },
   "source": [
    "### Total Number of occurences of particle detection"
   ]
  },
  {
   "cell_type": "code",
   "execution_count": 8,
   "metadata": {
    "extensions": {
     "jupyter_dashboards": {
      "version": 1,
      "views": {
       "grid_default": {
        "col": 4,
        "height": 4,
        "hidden": false,
        "row": 54,
        "width": 4
       },
       "report_default": {
        "hidden": false
       }
      }
     }
    }
   },
   "outputs": [
    {
     "data": {
      "text/plain": [
       "1.0    5829122\n",
       "0.0    5170877\n",
       "Name: sig_or_back, dtype: int64"
      ]
     },
     "execution_count": 8,
     "metadata": {},
     "output_type": "execute_result"
    }
   ],
   "source": [
    "df.sig_or_back.value_counts().compute()"
   ]
  },
  {
   "cell_type": "code",
   "execution_count": 9,
   "metadata": {
    "extensions": {
     "jupyter_dashboards": {
      "version": 1,
      "views": {
       "grid_default": {
        "col": 8,
        "height": 4,
        "hidden": false,
        "row": 54,
        "width": 4
       },
       "report_default": {
        "hidden": false
       }
      }
     }
    }
   },
   "outputs": [
    {
     "data": {
      "text/plain": [
       "0.9985364184372812"
      ]
     },
     "execution_count": 9,
     "metadata": {},
     "output_type": "execute_result"
    }
   ],
   "source": [
    "df['missing_energy_magnitude'].mean().compute()"
   ]
  },
  {
   "cell_type": "markdown",
   "metadata": {
    "collapsed": true,
    "extensions": {
     "jupyter_dashboards": {
      "version": 1,
      "views": {
       "grid_default": {
        "hidden": true
       },
       "report_default": {
        "hidden": true
       }
      }
     }
    }
   },
   "source": [
    "## Grouping by Signal or Background ( for signal or background)\n"
   ]
  },
  {
   "cell_type": "code",
   "execution_count": 11,
   "metadata": {},
   "outputs": [
    {
     "data": {
      "text/html": [
       "<div>\n",
       "<style>\n",
       "    .dataframe thead tr:only-child th {\n",
       "        text-align: right;\n",
       "    }\n",
       "\n",
       "    .dataframe thead th {\n",
       "        text-align: left;\n",
       "    }\n",
       "\n",
       "    .dataframe tbody tr th {\n",
       "        vertical-align: top;\n",
       "    }\n",
       "</style>\n",
       "<table border=\"1\" class=\"dataframe\">\n",
       "  <thead>\n",
       "    <tr style=\"text-align: right;\">\n",
       "      <th></th>\n",
       "      <th>sig_or_back</th>\n",
       "      <th>lepton_pT</th>\n",
       "      <th>lepton_eta</th>\n",
       "      <th>lepton_phi</th>\n",
       "      <th>missing_energy_magnitude</th>\n",
       "      <th>missing_energy_phi</th>\n",
       "      <th>jet_1_pt</th>\n",
       "      <th>jet_1_eta</th>\n",
       "      <th>jet_1_phi</th>\n",
       "      <th>jet_1_b-tag</th>\n",
       "      <th>jet_2_pt</th>\n",
       "      <th>jet_2_eta</th>\n",
       "      <th>jet_2_phi</th>\n",
       "      <th>jet_2_b-tag</th>\n",
       "      <th>jet_3_pt</th>\n",
       "      <th>jet_3_eta</th>\n",
       "      <th>jet_3_phi</th>\n",
       "      <th>jet_3_b-tag</th>\n",
       "      <th>jet_4_pt</th>\n",
       "      <th>jet_4_eta</th>\n",
       "      <th>jet_4_phi</th>\n",
       "      <th>jet_4_b-tag</th>\n",
       "      <th>m_jj</th>\n",
       "      <th>m_jjj</th>\n",
       "      <th>m_lv</th>\n",
       "      <th>m_jlv</th>\n",
       "      <th>m_bb</th>\n",
       "      <th>m_wbb</th>\n",
       "      <th>m_wwbb</th>\n",
       "    </tr>\n",
       "  </thead>\n",
       "  <tbody>\n",
       "    <tr>\n",
       "      <th>count</th>\n",
       "      <td>5829122.0</td>\n",
       "      <td>5.829122e+06</td>\n",
       "      <td>5.829122e+06</td>\n",
       "      <td>5.829122e+06</td>\n",
       "      <td>5.829122e+06</td>\n",
       "      <td>5.829122e+06</td>\n",
       "      <td>5.829122e+06</td>\n",
       "      <td>5.829122e+06</td>\n",
       "      <td>5.829122e+06</td>\n",
       "      <td>5.829122e+06</td>\n",
       "      <td>5.829122e+06</td>\n",
       "      <td>5.829122e+06</td>\n",
       "      <td>5.829122e+06</td>\n",
       "      <td>5.829122e+06</td>\n",
       "      <td>5.829122e+06</td>\n",
       "      <td>5.829122e+06</td>\n",
       "      <td>5.829122e+06</td>\n",
       "      <td>5.829122e+06</td>\n",
       "      <td>5.829122e+06</td>\n",
       "      <td>5.829122e+06</td>\n",
       "      <td>5.829122e+06</td>\n",
       "      <td>5.829122e+06</td>\n",
       "      <td>5.829122e+06</td>\n",
       "      <td>5.829122e+06</td>\n",
       "      <td>5.829122e+06</td>\n",
       "      <td>5.829122e+06</td>\n",
       "      <td>5.829122e+06</td>\n",
       "      <td>5.829122e+06</td>\n",
       "      <td>5.829122e+06</td>\n",
       "    </tr>\n",
       "    <tr>\n",
       "      <th>mean</th>\n",
       "      <td>1.0</td>\n",
       "      <td>9.655870e-01</td>\n",
       "      <td>-1.356029e-04</td>\n",
       "      <td>5.959064e-04</td>\n",
       "      <td>9.420242e-01</td>\n",
       "      <td>-4.842619e-04</td>\n",
       "      <td>1.016373e+00</td>\n",
       "      <td>-2.269496e-05</td>\n",
       "      <td>4.158578e-04</td>\n",
       "      <td>9.905488e-01</td>\n",
       "      <td>1.003038e+00</td>\n",
       "      <td>-1.846028e-04</td>\n",
       "      <td>-7.167515e-04</td>\n",
       "      <td>9.506039e-01</td>\n",
       "      <td>9.990867e-01</td>\n",
       "      <td>-1.831325e-04</td>\n",
       "      <td>-2.498779e-04</td>\n",
       "      <td>9.731122e-01</td>\n",
       "      <td>1.003801e+00</td>\n",
       "      <td>-3.323543e-04</td>\n",
       "      <td>4.272933e-04</td>\n",
       "      <td>1.019857e+00</td>\n",
       "      <td>1.042457e+00</td>\n",
       "      <td>1.033967e+00</td>\n",
       "      <td>1.052259e+00</td>\n",
       "      <td>9.981709e-01</td>\n",
       "      <td>8.976958e-01</td>\n",
       "      <td>1.010472e+00</td>\n",
       "      <td>9.234341e-01</td>\n",
       "    </tr>\n",
       "    <tr>\n",
       "      <th>std</th>\n",
       "      <td>0.0</td>\n",
       "      <td>5.052719e-01</td>\n",
       "      <td>9.978077e-01</td>\n",
       "      <td>1.006446e+00</td>\n",
       "      <td>5.268332e-01</td>\n",
       "      <td>1.006336e+00</td>\n",
       "      <td>4.825594e-01</td>\n",
       "      <td>1.008170e+00</td>\n",
       "      <td>1.005862e+00</td>\n",
       "      <td>1.028405e+00</td>\n",
       "      <td>5.053465e-01</td>\n",
       "      <td>9.970360e-01</td>\n",
       "      <td>1.006089e+00</td>\n",
       "      <td>1.044759e+00</td>\n",
       "      <td>4.951382e-01</td>\n",
       "      <td>9.952354e-01</td>\n",
       "      <td>1.006148e+00</td>\n",
       "      <td>1.187533e+00</td>\n",
       "      <td>5.177432e-01</td>\n",
       "      <td>9.873918e-01</td>\n",
       "      <td>1.006423e+00</td>\n",
       "      <td>1.406648e+00</td>\n",
       "      <td>6.918439e-01</td>\n",
       "      <td>3.988889e-01</td>\n",
       "      <td>1.645684e-01</td>\n",
       "      <td>3.602984e-01</td>\n",
       "      <td>3.849878e-01</td>\n",
       "      <td>3.326967e-01</td>\n",
       "      <td>2.832923e-01</td>\n",
       "    </tr>\n",
       "    <tr>\n",
       "      <th>min</th>\n",
       "      <td>1.0</td>\n",
       "      <td>2.746966e-01</td>\n",
       "      <td>-2.434976e+00</td>\n",
       "      <td>-1.742508e+00</td>\n",
       "      <td>5.761490e-04</td>\n",
       "      <td>-1.743944e+00</td>\n",
       "      <td>1.375024e-01</td>\n",
       "      <td>-2.969725e+00</td>\n",
       "      <td>-1.741237e+00</td>\n",
       "      <td>0.000000e+00</td>\n",
       "      <td>1.889811e-01</td>\n",
       "      <td>-2.913090e+00</td>\n",
       "      <td>-1.742372e+00</td>\n",
       "      <td>0.000000e+00</td>\n",
       "      <td>2.636076e-01</td>\n",
       "      <td>-2.729663e+00</td>\n",
       "      <td>-1.742069e+00</td>\n",
       "      <td>0.000000e+00</td>\n",
       "      <td>3.653542e-01</td>\n",
       "      <td>-2.497265e+00</td>\n",
       "      <td>-1.742691e+00</td>\n",
       "      <td>0.000000e+00</td>\n",
       "      <td>7.900884e-02</td>\n",
       "      <td>1.986757e-01</td>\n",
       "      <td>8.304866e-02</td>\n",
       "      <td>1.320062e-01</td>\n",
       "      <td>4.812501e-02</td>\n",
       "      <td>2.951122e-01</td>\n",
       "      <td>3.307214e-01</td>\n",
       "    </tr>\n",
       "    <tr>\n",
       "      <th>25%</th>\n",
       "      <td>1.0</td>\n",
       "      <td>6.055771e-01</td>\n",
       "      <td>-7.120253e-01</td>\n",
       "      <td>-8.486266e-01</td>\n",
       "      <td>5.684659e-01</td>\n",
       "      <td>-8.508769e-01</td>\n",
       "      <td>7.081238e-01</td>\n",
       "      <td>-6.595186e-01</td>\n",
       "      <td>-8.520194e-01</td>\n",
       "      <td>0.000000e+00</td>\n",
       "      <td>6.621265e-01</td>\n",
       "      <td>-6.556169e-01</td>\n",
       "      <td>-8.590825e-01</td>\n",
       "      <td>0.000000e+00</td>\n",
       "      <td>6.563408e-01</td>\n",
       "      <td>-6.697701e-01</td>\n",
       "      <td>-8.522733e-01</td>\n",
       "      <td>0.000000e+00</td>\n",
       "      <td>6.311548e-01</td>\n",
       "      <td>-6.812937e-01</td>\n",
       "      <td>-8.553864e-01</td>\n",
       "      <td>0.000000e+00</td>\n",
       "      <td>7.971902e-01</td>\n",
       "      <td>8.371706e-01</td>\n",
       "      <td>9.858507e-01</td>\n",
       "      <td>7.553128e-01</td>\n",
       "      <td>7.075194e-01</td>\n",
       "      <td>8.385335e-01</td>\n",
       "      <td>7.692019e-01</td>\n",
       "    </tr>\n",
       "    <tr>\n",
       "      <th>50%</th>\n",
       "      <td>1.0</td>\n",
       "      <td>8.550185e-01</td>\n",
       "      <td>1.406839e-02</td>\n",
       "      <td>2.594020e-02</td>\n",
       "      <td>8.655764e-01</td>\n",
       "      <td>2.557898e-02</td>\n",
       "      <td>9.253245e-01</td>\n",
       "      <td>2.175962e-02</td>\n",
       "      <td>2.011839e-02</td>\n",
       "      <td>1.086538e+00</td>\n",
       "      <td>9.082678e-01</td>\n",
       "      <td>1.463088e-02</td>\n",
       "      <td>2.431200e-02</td>\n",
       "      <td>0.000000e+00</td>\n",
       "      <td>9.072598e-01</td>\n",
       "      <td>1.291638e-02</td>\n",
       "      <td>1.876654e-02</td>\n",
       "      <td>0.000000e+00</td>\n",
       "      <td>8.894097e-01</td>\n",
       "      <td>2.202554e-02</td>\n",
       "      <td>2.092521e-02</td>\n",
       "      <td>0.000000e+00</td>\n",
       "      <td>9.011941e-01</td>\n",
       "      <td>9.683325e-01</td>\n",
       "      <td>9.899241e-01</td>\n",
       "      <td>9.316952e-01</td>\n",
       "      <td>8.572383e-01</td>\n",
       "      <td>9.412473e-01</td>\n",
       "      <td>8.473953e-01</td>\n",
       "    </tr>\n",
       "    <tr>\n",
       "      <th>75%</th>\n",
       "      <td>1.0</td>\n",
       "      <td>1.204200e+00</td>\n",
       "      <td>7.440580e-01</td>\n",
       "      <td>8.915238e-01</td>\n",
       "      <td>1.237583e+00</td>\n",
       "      <td>8.871386e-01</td>\n",
       "      <td>1.196024e+00</td>\n",
       "      <td>6.961062e-01</td>\n",
       "      <td>8.877158e-01</td>\n",
       "      <td>2.173076e+00</td>\n",
       "      <td>1.227181e+00</td>\n",
       "      <td>6.916783e-01</td>\n",
       "      <td>8.904014e-01</td>\n",
       "      <td>2.214872e+00</td>\n",
       "      <td>1.240062e+00</td>\n",
       "      <td>7.010644e-01</td>\n",
       "      <td>8.874820e-01</td>\n",
       "      <td>2.548224e+00</td>\n",
       "      <td>1.256468e+00</td>\n",
       "      <td>7.107704e-01</td>\n",
       "      <td>8.906111e-01</td>\n",
       "      <td>3.101961e+00</td>\n",
       "      <td>1.034597e+00</td>\n",
       "      <td>1.116055e+00</td>\n",
       "      <td>1.028725e+00</td>\n",
       "      <td>1.166247e+00</td>\n",
       "      <td>1.003752e+00</td>\n",
       "      <td>1.089447e+00</td>\n",
       "      <td>9.941395e-01</td>\n",
       "    </tr>\n",
       "    <tr>\n",
       "      <th>max</th>\n",
       "      <td>1.0</td>\n",
       "      <td>6.602602e+00</td>\n",
       "      <td>2.434868e+00</td>\n",
       "      <td>1.743236e+00</td>\n",
       "      <td>1.099996e+01</td>\n",
       "      <td>1.743257e+00</td>\n",
       "      <td>6.259705e+00</td>\n",
       "      <td>2.969674e+00</td>\n",
       "      <td>1.741454e+00</td>\n",
       "      <td>2.173076e+00</td>\n",
       "      <td>8.490554e+00</td>\n",
       "      <td>2.913210e+00</td>\n",
       "      <td>1.743175e+00</td>\n",
       "      <td>2.214872e+00</td>\n",
       "      <td>1.006978e+01</td>\n",
       "      <td>2.730009e+00</td>\n",
       "      <td>1.742884e+00</td>\n",
       "      <td>2.548224e+00</td>\n",
       "      <td>1.162123e+01</td>\n",
       "      <td>2.498009e+00</td>\n",
       "      <td>1.743372e+00</td>\n",
       "      <td>3.101961e+00</td>\n",
       "      <td>3.355602e+01</td>\n",
       "      <td>1.673047e+01</td>\n",
       "      <td>5.217282e+00</td>\n",
       "      <td>1.069142e+01</td>\n",
       "      <td>1.277313e+01</td>\n",
       "      <td>1.097622e+01</td>\n",
       "      <td>7.458594e+00</td>\n",
       "    </tr>\n",
       "  </tbody>\n",
       "</table>\n",
       "</div>"
      ],
      "text/plain": [
       "       sig_or_back     lepton_pT    lepton_eta    lepton_phi  \\\n",
       "count    5829122.0  5.829122e+06  5.829122e+06  5.829122e+06   \n",
       "mean           1.0  9.655870e-01 -1.356029e-04  5.959064e-04   \n",
       "std            0.0  5.052719e-01  9.978077e-01  1.006446e+00   \n",
       "min            1.0  2.746966e-01 -2.434976e+00 -1.742508e+00   \n",
       "25%            1.0  6.055771e-01 -7.120253e-01 -8.486266e-01   \n",
       "50%            1.0  8.550185e-01  1.406839e-02  2.594020e-02   \n",
       "75%            1.0  1.204200e+00  7.440580e-01  8.915238e-01   \n",
       "max            1.0  6.602602e+00  2.434868e+00  1.743236e+00   \n",
       "\n",
       "       missing_energy_magnitude  missing_energy_phi      jet_1_pt  \\\n",
       "count              5.829122e+06        5.829122e+06  5.829122e+06   \n",
       "mean               9.420242e-01       -4.842619e-04  1.016373e+00   \n",
       "std                5.268332e-01        1.006336e+00  4.825594e-01   \n",
       "min                5.761490e-04       -1.743944e+00  1.375024e-01   \n",
       "25%                5.684659e-01       -8.508769e-01  7.081238e-01   \n",
       "50%                8.655764e-01        2.557898e-02  9.253245e-01   \n",
       "75%                1.237583e+00        8.871386e-01  1.196024e+00   \n",
       "max                1.099996e+01        1.743257e+00  6.259705e+00   \n",
       "\n",
       "          jet_1_eta     jet_1_phi   jet_1_b-tag      jet_2_pt     jet_2_eta  \\\n",
       "count  5.829122e+06  5.829122e+06  5.829122e+06  5.829122e+06  5.829122e+06   \n",
       "mean  -2.269496e-05  4.158578e-04  9.905488e-01  1.003038e+00 -1.846028e-04   \n",
       "std    1.008170e+00  1.005862e+00  1.028405e+00  5.053465e-01  9.970360e-01   \n",
       "min   -2.969725e+00 -1.741237e+00  0.000000e+00  1.889811e-01 -2.913090e+00   \n",
       "25%   -6.595186e-01 -8.520194e-01  0.000000e+00  6.621265e-01 -6.556169e-01   \n",
       "50%    2.175962e-02  2.011839e-02  1.086538e+00  9.082678e-01  1.463088e-02   \n",
       "75%    6.961062e-01  8.877158e-01  2.173076e+00  1.227181e+00  6.916783e-01   \n",
       "max    2.969674e+00  1.741454e+00  2.173076e+00  8.490554e+00  2.913210e+00   \n",
       "\n",
       "          jet_2_phi   jet_2_b-tag      jet_3_pt     jet_3_eta     jet_3_phi  \\\n",
       "count  5.829122e+06  5.829122e+06  5.829122e+06  5.829122e+06  5.829122e+06   \n",
       "mean  -7.167515e-04  9.506039e-01  9.990867e-01 -1.831325e-04 -2.498779e-04   \n",
       "std    1.006089e+00  1.044759e+00  4.951382e-01  9.952354e-01  1.006148e+00   \n",
       "min   -1.742372e+00  0.000000e+00  2.636076e-01 -2.729663e+00 -1.742069e+00   \n",
       "25%   -8.590825e-01  0.000000e+00  6.563408e-01 -6.697701e-01 -8.522733e-01   \n",
       "50%    2.431200e-02  0.000000e+00  9.072598e-01  1.291638e-02  1.876654e-02   \n",
       "75%    8.904014e-01  2.214872e+00  1.240062e+00  7.010644e-01  8.874820e-01   \n",
       "max    1.743175e+00  2.214872e+00  1.006978e+01  2.730009e+00  1.742884e+00   \n",
       "\n",
       "        jet_3_b-tag      jet_4_pt     jet_4_eta     jet_4_phi   jet_4_b-tag  \\\n",
       "count  5.829122e+06  5.829122e+06  5.829122e+06  5.829122e+06  5.829122e+06   \n",
       "mean   9.731122e-01  1.003801e+00 -3.323543e-04  4.272933e-04  1.019857e+00   \n",
       "std    1.187533e+00  5.177432e-01  9.873918e-01  1.006423e+00  1.406648e+00   \n",
       "min    0.000000e+00  3.653542e-01 -2.497265e+00 -1.742691e+00  0.000000e+00   \n",
       "25%    0.000000e+00  6.311548e-01 -6.812937e-01 -8.553864e-01  0.000000e+00   \n",
       "50%    0.000000e+00  8.894097e-01  2.202554e-02  2.092521e-02  0.000000e+00   \n",
       "75%    2.548224e+00  1.256468e+00  7.107704e-01  8.906111e-01  3.101961e+00   \n",
       "max    2.548224e+00  1.162123e+01  2.498009e+00  1.743372e+00  3.101961e+00   \n",
       "\n",
       "               m_jj         m_jjj          m_lv         m_jlv          m_bb  \\\n",
       "count  5.829122e+06  5.829122e+06  5.829122e+06  5.829122e+06  5.829122e+06   \n",
       "mean   1.042457e+00  1.033967e+00  1.052259e+00  9.981709e-01  8.976958e-01   \n",
       "std    6.918439e-01  3.988889e-01  1.645684e-01  3.602984e-01  3.849878e-01   \n",
       "min    7.900884e-02  1.986757e-01  8.304866e-02  1.320062e-01  4.812501e-02   \n",
       "25%    7.971902e-01  8.371706e-01  9.858507e-01  7.553128e-01  7.075194e-01   \n",
       "50%    9.011941e-01  9.683325e-01  9.899241e-01  9.316952e-01  8.572383e-01   \n",
       "75%    1.034597e+00  1.116055e+00  1.028725e+00  1.166247e+00  1.003752e+00   \n",
       "max    3.355602e+01  1.673047e+01  5.217282e+00  1.069142e+01  1.277313e+01   \n",
       "\n",
       "              m_wbb        m_wwbb  \n",
       "count  5.829122e+06  5.829122e+06  \n",
       "mean   1.010472e+00  9.234341e-01  \n",
       "std    3.326967e-01  2.832923e-01  \n",
       "min    2.951122e-01  3.307214e-01  \n",
       "25%    8.385335e-01  7.692019e-01  \n",
       "50%    9.412473e-01  8.473953e-01  \n",
       "75%    1.089447e+00  9.941395e-01  \n",
       "max    1.097622e+01  7.458594e+00  "
      ]
     },
     "execution_count": 11,
     "metadata": {},
     "output_type": "execute_result"
    }
   ],
   "source": [
    "grouped = df.groupby('sig_or_back')\n",
    "# For all of the rows that reported a signal\n",
    "grouped.get_group(1).describe().compute()"
   ]
  },
  {
   "cell_type": "code",
   "execution_count": null,
   "metadata": {
    "collapsed": true
   },
   "outputs": [],
   "source": [
    "# By those that reported that the readings were from the background\n",
    "grouped.get_group(0).describe().compute()"
   ]
  }
 ],
 "metadata": {
  "extensions": {
   "jupyter_dashboards": {
    "activeView": "grid_default",
    "version": 1,
    "views": {
     "grid_default": {
      "cellMargin": 10,
      "defaultCellHeight": 20,
      "maxColumns": 12,
      "name": "grid",
      "type": "grid"
     },
     "report_default": {
      "name": "report",
      "type": "report"
     }
    }
   }
  },
  "kernelspec": {
   "display_name": "Python 3",
   "language": "python",
   "name": "python3"
  },
  "language_info": {
   "codemirror_mode": {
    "name": "ipython",
    "version": 3
   },
   "file_extension": ".py",
   "mimetype": "text/x-python",
   "name": "python",
   "nbconvert_exporter": "python",
   "pygments_lexer": "ipython3",
   "version": "3.6.3"
  }
 },
 "nbformat": 4,
 "nbformat_minor": 2
}
